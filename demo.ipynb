{
 "cells": [
  {
   "cell_type": "markdown",
   "metadata": {
    "toc": true
   },
   "source": [
    "<h1>Table of Contents<span class=\"tocSkip\"></span></h1>\n",
    "<div class=\"toc\"><ul class=\"toc-item\"><li><span><a href=\"#Crime-data-analysis-module---Reclaim-The-Night-Leeds-(RTNL)\" data-toc-modified-id=\"Crime-data-analysis-module---Reclaim-The-Night-Leeds-(RTNL)-1\"><span class=\"toc-item-num\">1&nbsp;&nbsp;</span>Crime data analysis module - Reclaim The Night Leeds (RTNL)</a></span><ul class=\"toc-item\"><li><span><a href=\"#Disclaimer-and-introduction\" data-toc-modified-id=\"Disclaimer-and-introduction-1.1\"><span class=\"toc-item-num\">1.1&nbsp;&nbsp;</span>Disclaimer and introduction</a></span></li><li><span><a href=\"#Tutorial\" data-toc-modified-id=\"Tutorial-1.2\"><span class=\"toc-item-num\">1.2&nbsp;&nbsp;</span>Tutorial</a></span><ul class=\"toc-item\"><li><span><a href=\"#Importing\" data-toc-modified-id=\"Importing-1.2.1\"><span class=\"toc-item-num\">1.2.1&nbsp;&nbsp;</span>Importing</a></span></li><li><span><a href=\"#Initialisation\" data-toc-modified-id=\"Initialisation-1.2.2\"><span class=\"toc-item-num\">1.2.2&nbsp;&nbsp;</span>Initialisation</a></span></li><li><span><a href=\"#exporting-the-constituincies\" data-toc-modified-id=\"exporting-the-constituincies-1.2.3\"><span class=\"toc-item-num\">1.2.3&nbsp;&nbsp;</span>exporting the constituincies</a></span></li><li><span><a href=\"#Data-Collection\" data-toc-modified-id=\"Data-Collection-1.2.4\"><span class=\"toc-item-num\">1.2.4&nbsp;&nbsp;</span>Data Collection</a></span></li><li><span><a href=\"#Correct-localisation-points\" data-toc-modified-id=\"Correct-localisation-points-1.2.5\"><span class=\"toc-item-num\">1.2.5&nbsp;&nbsp;</span>Correct localisation points</a></span></li><li><span><a href=\"#Plot-the-hotspots-as-a-barchart\" data-toc-modified-id=\"Plot-the-hotspots-as-a-barchart-1.2.6\"><span class=\"toc-item-num\">1.2.6&nbsp;&nbsp;</span>Plot the hotspots as a barchart</a></span></li></ul></li></ul></li><li><span><a href=\"#Conclusion\" data-toc-modified-id=\"Conclusion-2\"><span class=\"toc-item-num\">2&nbsp;&nbsp;</span>Conclusion</a></span></li></ul></div>"
   ]
  },
  {
   "cell_type": "markdown",
   "metadata": {},
   "source": [
    "# Crime data analysis module - Reclaim The Night Leeds (RTNL)\n",
    "\n",
    "## Disclaimer and introduction\n",
    "\n",
    "This Jupyter Notebook demonstrates how to use the crime data analysis module produced by RTNL to identify crime hotspots in UK parlimentary constituincies. It is an early beta version of the module so there are many missing features. To suggest new features or to report a bug please create an issue on the github https://github.com/Reclaim-The-Night-Leeds/crime-hotspots-uk.\n",
    "\n",
    "The use of data produced by this program is not necessarily endorsed by RTNL. Using this program does not mean we endorse you, your organisation or your aims. We are more than welcome to recieve requests to collaborate on projects and to spread information if we deem it in line with our aims. To work with us please contact RTNLeeds [at] gmail.com\n",
    "\n",
    "We welcome pull requests and contributions from anyone who wishes to expand the capacity of the module"
   ]
  },
  {
   "cell_type": "markdown",
   "metadata": {},
   "source": [
    "## Tutorial\n",
    "The rest of this notebook is dedicated to explaining how to use the module and demonstrating its capabillities.\n",
    "\n",
    "### Importing\n",
    "The module itself is pubplished on pypy as chuk and can be imported installed with this command"
   ]
  },
  {
   "cell_type": "code",
   "execution_count": null,
   "metadata": {},
   "outputs": [],
   "source": [
    "!pip install RTNChuk"
   ]
  },
  {
   "cell_type": "markdown",
   "metadata": {},
   "source": [
    "Once installed import with this"
   ]
  },
  {
   "cell_type": "code",
   "execution_count": null,
   "metadata": {
    "ExecuteTime": {
     "end_time": "2021-06-04T17:19:20.442437Z",
     "start_time": "2021-06-04T17:19:20.438232Z"
    }
   },
   "outputs": [],
   "source": [
    "import RTNChuk as chuk"
   ]
  },
  {
   "cell_type": "markdown",
   "metadata": {
    "tags": []
   },
   "source": [
    "### Initialisation\n",
    "The main class of the module is crime.Data() and it's init function takes two compulsory arguments.\n",
    "* name: The name to display at the top of graphs and reports produced\n",
    "* location_names: a list of constituincy names used to find the constituincies to get data for"
   ]
  },
  {
   "cell_type": "code",
   "execution_count": null,
   "metadata": {
    "ExecuteTime": {
     "end_time": "2021-06-04T17:19:24.816947Z",
     "start_time": "2021-06-04T17:19:21.243221Z"
    }
   },
   "outputs": [],
   "source": [
    "data = chuk.crime.Data(name = 'Leeds North West', location_names = ['Leeds North West'])"
   ]
  },
  {
   "cell_type": "markdown",
   "metadata": {},
   "source": [
    "### checking the constituincies\n",
    "Once the location data has been acquired its best to check you've got what you want. Do this by running the cell below to show the top 5 rows of the locations dataframe"
   ]
  },
  {
   "cell_type": "code",
   "execution_count": null,
   "metadata": {},
   "outputs": [],
   "source": [
    "data.locations.locations.head()"
   ]
  },
  {
   "cell_type": "markdown",
   "metadata": {},
   "source": [
    "### exporting the constituincies\n",
    "It is also possible to export the constituincies data so it can be imported into a spreadsheet. This cell will export the constituincies datafram and save it as `output.csv`"
   ]
  },
  {
   "cell_type": "code",
   "execution_count": null,
   "metadata": {
    "ExecuteTime": {
     "end_time": "2021-06-04T17:19:24.844328Z",
     "start_time": "2021-06-04T17:19:24.837902Z"
    }
   },
   "outputs": [],
   "source": [
    "data.locations.export('output.csv')"
   ]
  },
  {
   "cell_type": "markdown",
   "metadata": {},
   "source": [
    "### Data Collection"
   ]
  },
  {
   "cell_type": "markdown",
   "metadata": {},
   "source": [
    "Finally run the get_data function to load in the data for your chosen constituincy. This function takes two arguments:\n",
    "\n",
    "* crime_type: The string name of a crime type as identified by the crime_types member.\n",
    "\n",
    "Due to the unique shape of many UK constituincies some may produce errors when processing the data. If this happens or if you see any other anopmolies in the data please report them by submitting an issue on github.\n",
    "\n",
    "The data in question is collected using the public police UK API https://data.police.uk and is used under the Open Government License V3.0. The exact method used is street level crimes documented here https://data.police.uk/docs/method/crime-street/. \n",
    "\n",
    "The data collected covers March 2018 to February 2021."
   ]
  },
  {
   "cell_type": "markdown",
   "metadata": {},
   "source": [
    "Use the cell below to get a list of the crime types you can choose from and then run the function below replacing \"Violence and sexual offences\" with your chosen crime type."
   ]
  },
  {
   "cell_type": "code",
   "execution_count": null,
   "metadata": {},
   "outputs": [],
   "source": [
    "data.crime_types.keys()"
   ]
  },
  {
   "cell_type": "code",
   "execution_count": null,
   "metadata": {
    "ExecuteTime": {
     "end_time": "2021-06-04T17:19:41.224575Z",
     "start_time": "2021-06-04T17:19:24.982776Z"
    }
   },
   "outputs": [],
   "source": [
    "data.get_data('Violence and sexual offences')"
   ]
  },
  {
   "cell_type": "markdown",
   "metadata": {},
   "source": [
    "### Correct localisation points\n",
    "Some of the data retrieved gives its location using names that aren't very useful. The following list is the ones we have identified so far however there is no publically availabe list of all of them. We are submitting a FOI request to identify the remainder.\n",
    "```\n",
    "ignore = [\n",
    "        \"Sports/Recreation Area\",\n",
    "        \"Sports/recreation Area\",\n",
    "        \"Parking Area\",\n",
    "        \"Park/Open Space\",\n",
    "        \"Supermarket\",\n",
    "        \"Petrol Station\",\n",
    "        \"Pedestrian Subway\",\n",
    "        \"Shopping Area\",\n",
    "        \"Further/Higher Education Building\",\n",
    "        \"Police Station\",\n",
    "        \"Hospital\",\n",
    "        \"Nightclub\",\n",
    "        \"Bus/Coach Station\",\n",
    "        \"Theatre/Concert Hall\",\n",
    "        \"Conference/Exhibition Centre\",\n",
    "        \"Airport/Airfield\",\n",
    "        \"Added by Police Force\",\n",
    "        \"Ferry Terminal\",\n",
    "        \"Theme/Adventure Park\",\n",
    "        \"Prison\",\n",
    "        \"Race Track\",\n",
    "        \"Motorway Service Area\"]\n",
    "```\n",
    "This are names occured because the snap point location was made using the pointX dataset and the OS Maps data. They do not indicate that all the crimes in an area happened at that location and it is not garunteed that any of these locations will automatically have their own point."
   ]
  },
  {
   "cell_type": "markdown",
   "metadata": {},
   "source": [
    "To fix the locations run the function below, it can take a long time to run especially for datasets with lots of constituincies."
   ]
  },
  {
   "cell_type": "code",
   "execution_count": null,
   "metadata": {
    "ExecuteTime": {
     "end_time": "2021-06-04T17:19:47.987560Z",
     "start_time": "2021-06-04T17:19:41.256165Z"
    }
   },
   "outputs": [],
   "source": [
    "data.fix_locations()"
   ]
  },
  {
   "cell_type": "markdown",
   "metadata": {},
   "source": [
    "You can now display the data to get and idea of how it looks. Again .head() is used to only show the first 5 rows of the dataframe."
   ]
  },
  {
   "cell_type": "code",
   "execution_count": null,
   "metadata": {},
   "outputs": [],
   "source": [
    "data.all_crimes.head()"
   ]
  },
  {
   "cell_type": "markdown",
   "metadata": {},
   "source": [
    "### Plot the hotspots as a barchart\n",
    "Finally specify how many of the hotspots you want to plot and the name of the chart to plot a bar chart of the results. This function takes two arguments:\n",
    "* top: How many hotspots you want to plot (for instance 10 would plot the top 10 hotspots)\n",
    "* location: What to put the location as in the plot title. The title is assembled as ({crime_type} is taken from the initial data request):\n",
    "` 'Number of reported ' + {crime_type} + ' crimes in locations within ' + {location} + ' since 2018, top ' + {top} + ' locations' `\n",
    "\n",
    "This function will also save a jpeg of the bar chart to `locationFrequency.jpeg`. "
   ]
  },
  {
   "cell_type": "code",
   "execution_count": null,
   "metadata": {
    "ExecuteTime": {
     "end_time": "2021-06-04T17:19:55.705354Z",
     "start_time": "2021-06-04T17:19:48.010583Z"
    }
   },
   "outputs": [],
   "source": [
    "data.hotspots_graph(location = \"Leeds North West\", top = 10)"
   ]
  },
  {
   "cell_type": "markdown",
   "metadata": {},
   "source": [
    "If you wish to present the data in a custom manner access the hotspots data directly. If you run the graph with the top variable set to `None` you will get the data for all the locations."
   ]
  },
  {
   "cell_type": "code",
   "execution_count": null,
   "metadata": {
    "ExecuteTime": {
     "end_time": "2021-06-04T17:19:55.728227Z",
     "start_time": "2021-06-04T17:19:55.718309Z"
    }
   },
   "outputs": [],
   "source": [
    "data.hotspots"
   ]
  },
  {
   "cell_type": "markdown",
   "metadata": {},
   "source": [
    "If you want to use the data in another program such as excel you can export the entire downloaded dataset to a CSV file"
   ]
  },
  {
   "cell_type": "code",
   "execution_count": null,
   "metadata": {
    "ExecuteTime": {
     "end_time": "2021-06-04T17:21:01.714536Z",
     "start_time": "2021-06-04T17:21:01.699988Z"
    }
   },
   "outputs": [],
   "source": [
    "data.export('test.csv', 'csv')"
   ]
  },
  {
   "cell_type": "markdown",
   "metadata": {},
   "source": [
    "And to write to a SPSS .sav file"
   ]
  },
  {
   "cell_type": "code",
   "execution_count": null,
   "metadata": {},
   "outputs": [],
   "source": [
    "data.export('test.sav', 'sav')"
   ]
  },
  {
   "cell_type": "markdown",
   "metadata": {},
   "source": [
    "# Conclusion\n",
    "\n",
    "I hope this program has helped demonstrate the capabilities of the module. If you spotted any bugs, feature imporvements or areas for optimisation free to raise an issue or submit a pull request."
   ]
  }
 ],
 "metadata": {
  "kernelspec": {
   "display_name": "Python 3 (ipykernel)",
   "language": "python",
   "name": "python3"
  },
  "language_info": {
   "codemirror_mode": {
    "name": "ipython",
    "version": 3
   },
   "file_extension": ".py",
   "mimetype": "text/x-python",
   "name": "python",
   "nbconvert_exporter": "python",
   "pygments_lexer": "ipython3",
   "version": "3.8.10"
  },
  "toc": {
   "base_numbering": 1,
   "nav_menu": {},
   "number_sections": true,
   "sideBar": true,
   "skip_h1_title": false,
   "title_cell": "Table of Contents",
   "title_sidebar": "Contents",
   "toc_cell": true,
   "toc_position": {},
   "toc_section_display": true,
   "toc_window_display": false
  },
  "varInspector": {
   "cols": {
    "lenName": 16,
    "lenType": 16,
    "lenVar": 40
   },
   "kernels_config": {
    "python": {
     "delete_cmd_postfix": "",
     "delete_cmd_prefix": "del ",
     "library": "var_list.py",
     "varRefreshCmd": "print(var_dic_list())"
    },
    "r": {
     "delete_cmd_postfix": ") ",
     "delete_cmd_prefix": "rm(",
     "library": "var_list.r",
     "varRefreshCmd": "cat(var_dic_list()) "
    }
   },
   "types_to_exclude": [
    "module",
    "function",
    "builtin_function_or_method",
    "instance",
    "_Feature"
   ],
   "window_display": false
  }
 },
 "nbformat": 4,
 "nbformat_minor": 4
}
